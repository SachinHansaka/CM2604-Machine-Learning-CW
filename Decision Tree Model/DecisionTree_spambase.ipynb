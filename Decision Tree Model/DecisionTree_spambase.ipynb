{
 "cells": [
  {
   "cell_type": "code",
   "execution_count": 40,
   "metadata": {
    "collapsed": true
   },
   "outputs": [],
   "source": [
    "import pandas as pd\n",
    "from sklearn.tree import DecisionTreeClassifier\n",
    "from sklearn.model_selection import train_test_split\n",
    "from sklearn.metrics import accuracy_score"
   ]
  },
  {
   "cell_type": "code",
   "execution_count": 41,
   "outputs": [
    {
     "data": {
      "text/plain": "['word_freq_make',\n 'word_freq_address',\n 'word_freq_all',\n 'word_freq_3d',\n 'word_freq_our',\n 'word_freq_over',\n 'word_freq_remove',\n 'word_freq_internet',\n 'word_freq_order',\n 'word_freq_mail',\n 'word_freq_receive',\n 'word_freq_will',\n 'word_freq_people',\n 'word_freq_report',\n 'word_freq_addresses',\n 'word_freq_free',\n 'word_freq_business',\n 'word_freq_email',\n 'word_freq_you',\n 'word_freq_credit',\n 'word_freq_your',\n 'word_freq_font',\n 'word_freq_000',\n 'word_freq_money',\n 'word_freq_hp',\n 'word_freq_hpl',\n 'word_freq_george',\n 'word_freq_650',\n 'word_freq_lab',\n 'word_freq_labs',\n 'word_freq_telnet',\n 'word_freq_857',\n 'word_freq_data',\n 'word_freq_415',\n 'word_freq_85',\n 'word_freq_technology',\n 'word_freq_1999',\n 'word_freq_parts',\n 'word_freq_pm',\n 'word_freq_direct',\n 'word_freq_cs',\n 'word_freq_meeting',\n 'word_freq_original',\n 'word_freq_project',\n 'word_freq_re',\n 'word_freq_edu',\n 'word_freq_table',\n 'word_freq_conference',\n 'char_freq_;',\n 'char_freq_(',\n 'char_freq_[',\n 'char_freq_!',\n 'char_freq_$',\n 'char_freq_#',\n 'capital_run_length_average',\n 'capital_run_length_longest',\n 'capital_run_length_total',\n 'label']"
     },
     "execution_count": 41,
     "metadata": {},
     "output_type": "execute_result"
    }
   ],
   "source": [
    "names = pd.read_csv('https://archive.ics.uci.edu/ml/machine-learning-databases/spambase/spambase.names', skiprows=32, sep=':\\s+', engine='python', names=['attr', ''])\n",
    "names = names['attr']\n",
    "names = list(names)\n",
    "names.append('label')\n",
    "names"
   ],
   "metadata": {
    "collapsed": false
   }
  },
  {
   "cell_type": "code",
   "execution_count": 42,
   "outputs": [
    {
     "data": {
      "text/plain": "      word_freq_make  word_freq_address  word_freq_all  word_freq_3d  \\\n0               0.00               0.64           0.64           0.0   \n1               0.21               0.28           0.50           0.0   \n2               0.06               0.00           0.71           0.0   \n3               0.00               0.00           0.00           0.0   \n4               0.00               0.00           0.00           0.0   \n...              ...                ...            ...           ...   \n4596            0.31               0.00           0.62           0.0   \n4597            0.00               0.00           0.00           0.0   \n4598            0.30               0.00           0.30           0.0   \n4599            0.96               0.00           0.00           0.0   \n4600            0.00               0.00           0.65           0.0   \n\n      word_freq_our  word_freq_over  word_freq_remove  word_freq_internet  \\\n0              0.32            0.00              0.00                0.00   \n1              0.14            0.28              0.21                0.07   \n2              1.23            0.19              0.19                0.12   \n3              0.63            0.00              0.31                0.63   \n4              0.63            0.00              0.31                0.63   \n...             ...             ...               ...                 ...   \n4596           0.00            0.31              0.00                0.00   \n4597           0.00            0.00              0.00                0.00   \n4598           0.00            0.00              0.00                0.00   \n4599           0.32            0.00              0.00                0.00   \n4600           0.00            0.00              0.00                0.00   \n\n      word_freq_order  word_freq_mail  ...  char_freq_;  char_freq_(  \\\n0                0.00            0.00  ...        0.000        0.000   \n1                0.00            0.94  ...        0.000        0.132   \n2                0.64            0.25  ...        0.010        0.143   \n3                0.31            0.63  ...        0.000        0.137   \n4                0.31            0.63  ...        0.000        0.135   \n...               ...             ...  ...          ...          ...   \n4596             0.00            0.00  ...        0.000        0.232   \n4597             0.00            0.00  ...        0.000        0.000   \n4598             0.00            0.00  ...        0.102        0.718   \n4599             0.00            0.00  ...        0.000        0.057   \n4600             0.00            0.00  ...        0.000        0.000   \n\n      char_freq_[  char_freq_!  char_freq_$  char_freq_#  \\\n0             0.0        0.778        0.000        0.000   \n1             0.0        0.372        0.180        0.048   \n2             0.0        0.276        0.184        0.010   \n3             0.0        0.137        0.000        0.000   \n4             0.0        0.135        0.000        0.000   \n...           ...          ...          ...          ...   \n4596          0.0        0.000        0.000        0.000   \n4597          0.0        0.353        0.000        0.000   \n4598          0.0        0.000        0.000        0.000   \n4599          0.0        0.000        0.000        0.000   \n4600          0.0        0.125        0.000        0.000   \n\n      capital_run_length_average  capital_run_length_longest  \\\n0                          3.756                          61   \n1                          5.114                         101   \n2                          9.821                         485   \n3                          3.537                          40   \n4                          3.537                          40   \n...                          ...                         ...   \n4596                       1.142                           3   \n4597                       1.555                           4   \n4598                       1.404                           6   \n4599                       1.147                           5   \n4600                       1.250                           5   \n\n      capital_run_length_total  label  \n0                          278      1  \n1                         1028      1  \n2                         2259      1  \n3                          191      1  \n4                          191      1  \n...                        ...    ...  \n4596                        88      0  \n4597                        14      0  \n4598                       118      0  \n4599                        78      0  \n4600                        40      0  \n\n[4601 rows x 58 columns]",
      "text/html": "<div>\n<style scoped>\n    .dataframe tbody tr th:only-of-type {\n        vertical-align: middle;\n    }\n\n    .dataframe tbody tr th {\n        vertical-align: top;\n    }\n\n    .dataframe thead th {\n        text-align: right;\n    }\n</style>\n<table border=\"1\" class=\"dataframe\">\n  <thead>\n    <tr style=\"text-align: right;\">\n      <th></th>\n      <th>word_freq_make</th>\n      <th>word_freq_address</th>\n      <th>word_freq_all</th>\n      <th>word_freq_3d</th>\n      <th>word_freq_our</th>\n      <th>word_freq_over</th>\n      <th>word_freq_remove</th>\n      <th>word_freq_internet</th>\n      <th>word_freq_order</th>\n      <th>word_freq_mail</th>\n      <th>...</th>\n      <th>char_freq_;</th>\n      <th>char_freq_(</th>\n      <th>char_freq_[</th>\n      <th>char_freq_!</th>\n      <th>char_freq_$</th>\n      <th>char_freq_#</th>\n      <th>capital_run_length_average</th>\n      <th>capital_run_length_longest</th>\n      <th>capital_run_length_total</th>\n      <th>label</th>\n    </tr>\n  </thead>\n  <tbody>\n    <tr>\n      <th>0</th>\n      <td>0.00</td>\n      <td>0.64</td>\n      <td>0.64</td>\n      <td>0.0</td>\n      <td>0.32</td>\n      <td>0.00</td>\n      <td>0.00</td>\n      <td>0.00</td>\n      <td>0.00</td>\n      <td>0.00</td>\n      <td>...</td>\n      <td>0.000</td>\n      <td>0.000</td>\n      <td>0.0</td>\n      <td>0.778</td>\n      <td>0.000</td>\n      <td>0.000</td>\n      <td>3.756</td>\n      <td>61</td>\n      <td>278</td>\n      <td>1</td>\n    </tr>\n    <tr>\n      <th>1</th>\n      <td>0.21</td>\n      <td>0.28</td>\n      <td>0.50</td>\n      <td>0.0</td>\n      <td>0.14</td>\n      <td>0.28</td>\n      <td>0.21</td>\n      <td>0.07</td>\n      <td>0.00</td>\n      <td>0.94</td>\n      <td>...</td>\n      <td>0.000</td>\n      <td>0.132</td>\n      <td>0.0</td>\n      <td>0.372</td>\n      <td>0.180</td>\n      <td>0.048</td>\n      <td>5.114</td>\n      <td>101</td>\n      <td>1028</td>\n      <td>1</td>\n    </tr>\n    <tr>\n      <th>2</th>\n      <td>0.06</td>\n      <td>0.00</td>\n      <td>0.71</td>\n      <td>0.0</td>\n      <td>1.23</td>\n      <td>0.19</td>\n      <td>0.19</td>\n      <td>0.12</td>\n      <td>0.64</td>\n      <td>0.25</td>\n      <td>...</td>\n      <td>0.010</td>\n      <td>0.143</td>\n      <td>0.0</td>\n      <td>0.276</td>\n      <td>0.184</td>\n      <td>0.010</td>\n      <td>9.821</td>\n      <td>485</td>\n      <td>2259</td>\n      <td>1</td>\n    </tr>\n    <tr>\n      <th>3</th>\n      <td>0.00</td>\n      <td>0.00</td>\n      <td>0.00</td>\n      <td>0.0</td>\n      <td>0.63</td>\n      <td>0.00</td>\n      <td>0.31</td>\n      <td>0.63</td>\n      <td>0.31</td>\n      <td>0.63</td>\n      <td>...</td>\n      <td>0.000</td>\n      <td>0.137</td>\n      <td>0.0</td>\n      <td>0.137</td>\n      <td>0.000</td>\n      <td>0.000</td>\n      <td>3.537</td>\n      <td>40</td>\n      <td>191</td>\n      <td>1</td>\n    </tr>\n    <tr>\n      <th>4</th>\n      <td>0.00</td>\n      <td>0.00</td>\n      <td>0.00</td>\n      <td>0.0</td>\n      <td>0.63</td>\n      <td>0.00</td>\n      <td>0.31</td>\n      <td>0.63</td>\n      <td>0.31</td>\n      <td>0.63</td>\n      <td>...</td>\n      <td>0.000</td>\n      <td>0.135</td>\n      <td>0.0</td>\n      <td>0.135</td>\n      <td>0.000</td>\n      <td>0.000</td>\n      <td>3.537</td>\n      <td>40</td>\n      <td>191</td>\n      <td>1</td>\n    </tr>\n    <tr>\n      <th>...</th>\n      <td>...</td>\n      <td>...</td>\n      <td>...</td>\n      <td>...</td>\n      <td>...</td>\n      <td>...</td>\n      <td>...</td>\n      <td>...</td>\n      <td>...</td>\n      <td>...</td>\n      <td>...</td>\n      <td>...</td>\n      <td>...</td>\n      <td>...</td>\n      <td>...</td>\n      <td>...</td>\n      <td>...</td>\n      <td>...</td>\n      <td>...</td>\n      <td>...</td>\n      <td>...</td>\n    </tr>\n    <tr>\n      <th>4596</th>\n      <td>0.31</td>\n      <td>0.00</td>\n      <td>0.62</td>\n      <td>0.0</td>\n      <td>0.00</td>\n      <td>0.31</td>\n      <td>0.00</td>\n      <td>0.00</td>\n      <td>0.00</td>\n      <td>0.00</td>\n      <td>...</td>\n      <td>0.000</td>\n      <td>0.232</td>\n      <td>0.0</td>\n      <td>0.000</td>\n      <td>0.000</td>\n      <td>0.000</td>\n      <td>1.142</td>\n      <td>3</td>\n      <td>88</td>\n      <td>0</td>\n    </tr>\n    <tr>\n      <th>4597</th>\n      <td>0.00</td>\n      <td>0.00</td>\n      <td>0.00</td>\n      <td>0.0</td>\n      <td>0.00</td>\n      <td>0.00</td>\n      <td>0.00</td>\n      <td>0.00</td>\n      <td>0.00</td>\n      <td>0.00</td>\n      <td>...</td>\n      <td>0.000</td>\n      <td>0.000</td>\n      <td>0.0</td>\n      <td>0.353</td>\n      <td>0.000</td>\n      <td>0.000</td>\n      <td>1.555</td>\n      <td>4</td>\n      <td>14</td>\n      <td>0</td>\n    </tr>\n    <tr>\n      <th>4598</th>\n      <td>0.30</td>\n      <td>0.00</td>\n      <td>0.30</td>\n      <td>0.0</td>\n      <td>0.00</td>\n      <td>0.00</td>\n      <td>0.00</td>\n      <td>0.00</td>\n      <td>0.00</td>\n      <td>0.00</td>\n      <td>...</td>\n      <td>0.102</td>\n      <td>0.718</td>\n      <td>0.0</td>\n      <td>0.000</td>\n      <td>0.000</td>\n      <td>0.000</td>\n      <td>1.404</td>\n      <td>6</td>\n      <td>118</td>\n      <td>0</td>\n    </tr>\n    <tr>\n      <th>4599</th>\n      <td>0.96</td>\n      <td>0.00</td>\n      <td>0.00</td>\n      <td>0.0</td>\n      <td>0.32</td>\n      <td>0.00</td>\n      <td>0.00</td>\n      <td>0.00</td>\n      <td>0.00</td>\n      <td>0.00</td>\n      <td>...</td>\n      <td>0.000</td>\n      <td>0.057</td>\n      <td>0.0</td>\n      <td>0.000</td>\n      <td>0.000</td>\n      <td>0.000</td>\n      <td>1.147</td>\n      <td>5</td>\n      <td>78</td>\n      <td>0</td>\n    </tr>\n    <tr>\n      <th>4600</th>\n      <td>0.00</td>\n      <td>0.00</td>\n      <td>0.65</td>\n      <td>0.0</td>\n      <td>0.00</td>\n      <td>0.00</td>\n      <td>0.00</td>\n      <td>0.00</td>\n      <td>0.00</td>\n      <td>0.00</td>\n      <td>...</td>\n      <td>0.000</td>\n      <td>0.000</td>\n      <td>0.0</td>\n      <td>0.125</td>\n      <td>0.000</td>\n      <td>0.000</td>\n      <td>1.250</td>\n      <td>5</td>\n      <td>40</td>\n      <td>0</td>\n    </tr>\n  </tbody>\n</table>\n<p>4601 rows × 58 columns</p>\n</div>"
     },
     "execution_count": 42,
     "metadata": {},
     "output_type": "execute_result"
    }
   ],
   "source": [
    "mail_data = pd.read_csv('https://archive.ics.uci.edu/ml/machine-learning-databases/spambase/spambase.data', names=names)\n",
    "mail_data"
   ],
   "metadata": {
    "collapsed": false
   }
  },
  {
   "cell_type": "code",
   "execution_count": 43,
   "outputs": [],
   "source": [
    "# split dataset\n",
    "X = mail_data.iloc[:, :-1]\n",
    "y = mail_data.iloc[:, -1]"
   ],
   "metadata": {
    "collapsed": false
   }
  },
  {
   "cell_type": "code",
   "execution_count": 44,
   "outputs": [
    {
     "name": "stdout",
     "output_type": "stream",
     "text": [
      "0    2788\n",
      "1    1813\n",
      "Name: label, dtype: int64\n"
     ]
    }
   ],
   "source": [
    "count = y.value_counts()\n",
    "print(count)"
   ],
   "metadata": {
    "collapsed": false
   }
  },
  {
   "cell_type": "code",
   "execution_count": 45,
   "outputs": [
    {
     "name": "stdout",
     "output_type": "stream",
     "text": [
      "word_freq_make                0\n",
      "word_freq_address             0\n",
      "word_freq_all                 0\n",
      "word_freq_3d                  0\n",
      "word_freq_our                 0\n",
      "word_freq_over                0\n",
      "word_freq_remove              0\n",
      "word_freq_internet            0\n",
      "word_freq_order               0\n",
      "word_freq_mail                0\n",
      "word_freq_receive             0\n",
      "word_freq_will                0\n",
      "word_freq_people              0\n",
      "word_freq_report              0\n",
      "word_freq_addresses           0\n",
      "word_freq_free                0\n",
      "word_freq_business            0\n",
      "word_freq_email               0\n",
      "word_freq_you                 0\n",
      "word_freq_credit              0\n",
      "word_freq_your                0\n",
      "word_freq_font                0\n",
      "word_freq_000                 0\n",
      "word_freq_money               0\n",
      "word_freq_hp                  0\n",
      "word_freq_hpl                 0\n",
      "word_freq_george              0\n",
      "word_freq_650                 0\n",
      "word_freq_lab                 0\n",
      "word_freq_labs                0\n",
      "word_freq_telnet              0\n",
      "word_freq_857                 0\n",
      "word_freq_data                0\n",
      "word_freq_415                 0\n",
      "word_freq_85                  0\n",
      "word_freq_technology          0\n",
      "word_freq_1999                0\n",
      "word_freq_parts               0\n",
      "word_freq_pm                  0\n",
      "word_freq_direct              0\n",
      "word_freq_cs                  0\n",
      "word_freq_meeting             0\n",
      "word_freq_original            0\n",
      "word_freq_project             0\n",
      "word_freq_re                  0\n",
      "word_freq_edu                 0\n",
      "word_freq_table               0\n",
      "word_freq_conference          0\n",
      "char_freq_;                   0\n",
      "char_freq_(                   0\n",
      "char_freq_[                   0\n",
      "char_freq_!                   0\n",
      "char_freq_$                   0\n",
      "char_freq_#                   0\n",
      "capital_run_length_average    0\n",
      "capital_run_length_longest    0\n",
      "capital_run_length_total      0\n",
      "label                         0\n",
      "dtype: int64 \n",
      "==================\n",
      "391\n"
     ]
    }
   ],
   "source": [
    "print(mail_data.isnull().sum(),\"\\n==================\")\n",
    "data = mail_data.dropna()\n",
    "print(data.duplicated().sum())\n",
    "data = data.drop_duplicates()"
   ],
   "metadata": {
    "collapsed": false
   }
  },
  {
   "cell_type": "code",
   "execution_count": 46,
   "outputs": [
    {
     "name": "stdout",
     "output_type": "stream",
     "text": [
      "       word_freq_make  word_freq_address  word_freq_all  word_freq_3d  \\\n",
      "count     4601.000000        4601.000000    4601.000000   4601.000000   \n",
      "mean         0.104553           0.213015       0.280656      0.065425   \n",
      "std          0.305358           1.290575       0.504143      1.395151   \n",
      "min          0.000000           0.000000       0.000000      0.000000   \n",
      "25%          0.000000           0.000000       0.000000      0.000000   \n",
      "50%          0.000000           0.000000       0.000000      0.000000   \n",
      "75%          0.000000           0.000000       0.420000      0.000000   \n",
      "max          4.540000          14.280000       5.100000     42.810000   \n",
      "\n",
      "       word_freq_our  word_freq_over  word_freq_remove  word_freq_internet  \\\n",
      "count    4601.000000     4601.000000       4601.000000         4601.000000   \n",
      "mean        0.312223        0.095901          0.114208            0.105295   \n",
      "std         0.672513        0.273824          0.391441            0.401071   \n",
      "min         0.000000        0.000000          0.000000            0.000000   \n",
      "25%         0.000000        0.000000          0.000000            0.000000   \n",
      "50%         0.000000        0.000000          0.000000            0.000000   \n",
      "75%         0.380000        0.000000          0.000000            0.000000   \n",
      "max        10.000000        5.880000          7.270000           11.110000   \n",
      "\n",
      "       word_freq_order  word_freq_mail  ...  char_freq_;  char_freq_(  \\\n",
      "count      4601.000000     4601.000000  ...  4601.000000  4601.000000   \n",
      "mean          0.090067        0.239413  ...     0.038575     0.139030   \n",
      "std           0.278616        0.644755  ...     0.243471     0.270355   \n",
      "min           0.000000        0.000000  ...     0.000000     0.000000   \n",
      "25%           0.000000        0.000000  ...     0.000000     0.000000   \n",
      "50%           0.000000        0.000000  ...     0.000000     0.065000   \n",
      "75%           0.000000        0.160000  ...     0.000000     0.188000   \n",
      "max           5.260000       18.180000  ...     4.385000     9.752000   \n",
      "\n",
      "       char_freq_[  char_freq_!  char_freq_$  char_freq_#  \\\n",
      "count  4601.000000  4601.000000  4601.000000  4601.000000   \n",
      "mean      0.016976     0.269071     0.075811     0.044238   \n",
      "std       0.109394     0.815672     0.245882     0.429342   \n",
      "min       0.000000     0.000000     0.000000     0.000000   \n",
      "25%       0.000000     0.000000     0.000000     0.000000   \n",
      "50%       0.000000     0.000000     0.000000     0.000000   \n",
      "75%       0.000000     0.315000     0.052000     0.000000   \n",
      "max       4.081000    32.478000     6.003000    19.829000   \n",
      "\n",
      "       capital_run_length_average  capital_run_length_longest  \\\n",
      "count                 4601.000000                 4601.000000   \n",
      "mean                     5.191515                   52.172789   \n",
      "std                     31.729449                  194.891310   \n",
      "min                      1.000000                    1.000000   \n",
      "25%                      1.588000                    6.000000   \n",
      "50%                      2.276000                   15.000000   \n",
      "75%                      3.706000                   43.000000   \n",
      "max                   1102.500000                 9989.000000   \n",
      "\n",
      "       capital_run_length_total        label  \n",
      "count               4601.000000  4601.000000  \n",
      "mean                 283.289285     0.394045  \n",
      "std                  606.347851     0.488698  \n",
      "min                    1.000000     0.000000  \n",
      "25%                   35.000000     0.000000  \n",
      "50%                   95.000000     0.000000  \n",
      "75%                  266.000000     1.000000  \n",
      "max                15841.000000     1.000000  \n",
      "\n",
      "[8 rows x 58 columns]\n"
     ]
    }
   ],
   "source": [
    "print(mail_data.describe())"
   ],
   "metadata": {
    "collapsed": false
   }
  },
  {
   "cell_type": "code",
   "execution_count": 47,
   "outputs": [],
   "source": [
    "# Split the dataset into train and test sets\n",
    "X_train, X_test, y_train, y_test = train_test_split(X, y, test_size=0.2, random_state=1)"
   ],
   "metadata": {
    "collapsed": false
   }
  },
  {
   "cell_type": "code",
   "execution_count": 48,
   "outputs": [
    {
     "name": "stdout",
     "output_type": "stream",
     "text": [
      "1351    1\n",
      "1687    1\n",
      "1297    1\n",
      "2101    0\n",
      "3920    0\n",
      "       ..\n",
      "2215    0\n",
      "3634    0\n",
      "3531    0\n",
      "3955    0\n",
      "2583    0\n",
      "Name: label, Length: 921, dtype: int64\n"
     ]
    }
   ],
   "source": [
    "print(y_test)"
   ],
   "metadata": {
    "collapsed": false
   }
  },
  {
   "cell_type": "code",
   "execution_count": 49,
   "outputs": [],
   "source": [
    "# max depth values\n",
    "max_depth_values = range(1, 11)"
   ],
   "metadata": {
    "collapsed": false
   }
  },
  {
   "cell_type": "code",
   "execution_count": 50,
   "outputs": [
    {
     "name": "stdout",
     "output_type": "stream",
     "text": [
      "max_depth =  1 : mean accuracy =  77.20140526266151\n",
      "max_depth =  2 : mean accuracy =  83.98198623031217\n",
      "max_depth =  3 : mean accuracy =  86.91676883900783\n",
      "max_depth =  4 : mean accuracy =  89.04569461473167\n",
      "max_depth =  5 : mean accuracy =  90.24092238045836\n",
      "max_depth =  6 : mean accuracy =  90.80590398943696\n",
      "max_depth =  7 : mean accuracy =  91.15382438932377\n",
      "max_depth =  8 : mean accuracy =  90.76237857210224\n",
      "max_depth =  9 : mean accuracy =  91.0448929548241\n",
      "max_depth =  10 : mean accuracy =  91.04498726775441\n"
     ]
    }
   ],
   "source": [
    "# check the best mean accuracy value for max depth\n",
    "from sklearn.model_selection import cross_val_score\n",
    "\n",
    "for max_depth in max_depth_values:\n",
    "    model = DecisionTreeClassifier(max_depth=max_depth, random_state=1)\n",
    "    scores = cross_val_score(model, X, y, cv=10)\n",
    "    mean_score = scores.mean()\n",
    "    print(\"max_depth = \", max_depth, \":\", \"mean accuracy = \", mean_score*100 )"
   ],
   "metadata": {
    "collapsed": false
   }
  },
  {
   "cell_type": "code",
   "execution_count": 51,
   "outputs": [],
   "source": [
    "# Define the model\n",
    "model = DecisionTreeClassifier(criterion=\"entropy\", max_depth=7)"
   ],
   "metadata": {
    "collapsed": false
   }
  },
  {
   "cell_type": "code",
   "execution_count": 52,
   "outputs": [
    {
     "data": {
      "text/plain": "DecisionTreeClassifier(criterion='entropy', max_depth=7)"
     },
     "execution_count": 52,
     "metadata": {},
     "output_type": "execute_result"
    }
   ],
   "source": [
    "# Fit the model on the training data\n",
    "model.fit(X_train, y_train)"
   ],
   "metadata": {
    "collapsed": false
   }
  },
  {
   "cell_type": "code",
   "execution_count": 53,
   "outputs": [],
   "source": [
    "# Predict the target variable for the test data\n",
    "y_pred = model.predict(X_test)"
   ],
   "metadata": {
    "collapsed": false
   }
  },
  {
   "cell_type": "code",
   "execution_count": 54,
   "outputs": [
    {
     "name": "stdout",
     "output_type": "stream",
     "text": [
      "Accuracy: 92.72529858849077\n"
     ]
    }
   ],
   "source": [
    "# Evaluate the model's accuracy on the test data\n",
    "accuracy = accuracy_score(y_test, y_pred)\n",
    "print(\"Accuracy:\", accuracy*100)"
   ],
   "metadata": {
    "collapsed": false
   }
  },
  {
   "cell_type": "code",
   "execution_count": 55,
   "outputs": [
    {
     "name": "stdout",
     "output_type": "stream",
     "text": [
      "[[538  26]\n",
      " [ 41 316]]\n"
     ]
    }
   ],
   "source": [
    "from sklearn.metrics import confusion_matrix\n",
    "cm = confusion_matrix(y_test, y_pred)\n",
    "print(cm)"
   ],
   "metadata": {
    "collapsed": false
   }
  },
  {
   "cell_type": "code",
   "execution_count": 56,
   "outputs": [
    {
     "name": "stdout",
     "output_type": "stream",
     "text": [
      "              precision    recall  f1-score   support\n",
      "\n",
      "           0       0.93      0.95      0.94       564\n",
      "           1       0.92      0.89      0.90       357\n",
      "\n",
      "    accuracy                           0.93       921\n",
      "   macro avg       0.93      0.92      0.92       921\n",
      "weighted avg       0.93      0.93      0.93       921\n",
      "\n"
     ]
    }
   ],
   "source": [
    "from sklearn.metrics import classification_report\n",
    "print(classification_report(y_test,y_pred))"
   ],
   "metadata": {
    "collapsed": false
   }
  },
  {
   "cell_type": "code",
   "execution_count": 56,
   "outputs": [],
   "source": [],
   "metadata": {
    "collapsed": false
   }
  }
 ],
 "metadata": {
  "kernelspec": {
   "display_name": "Python 3",
   "language": "python",
   "name": "python3"
  },
  "language_info": {
   "codemirror_mode": {
    "name": "ipython",
    "version": 2
   },
   "file_extension": ".py",
   "mimetype": "text/x-python",
   "name": "python",
   "nbconvert_exporter": "python",
   "pygments_lexer": "ipython2",
   "version": "2.7.6"
  }
 },
 "nbformat": 4,
 "nbformat_minor": 0
}
